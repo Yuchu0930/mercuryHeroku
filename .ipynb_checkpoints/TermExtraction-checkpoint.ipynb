{
 "cells": [
  {
   "cell_type": "raw",
   "id": "d1564cc3-cc90-4a9f-b73b-4094f1ea3a64",
   "metadata": {},
   "source": [
    "---\n",
    "title: Keyword extraction\n",
    "description: Extracts Keywords\n",
    "show-code: False\n",
    "show-prompt: False\n",
    "params:\n",
    "    my_variable:\n",
    "        input: text\n",
    "        label: This is text label\n",
    "        rows: 10\n",
    "---"
   ]
  },
  {
   "cell_type": "code",
   "execution_count": 1,
   "id": "a8840e3b-c957-4c51-a231-6aea52a68d80",
   "metadata": {},
   "outputs": [],
   "source": [
    "import spacy\n",
    "from collections import Counter\n",
    "from string import punctuation"
   ]
  },
  {
   "cell_type": "code",
   "execution_count": 14,
   "id": "506cef27-38f2-45e1-a94a-56d4d289eaf2",
   "metadata": {},
   "outputs": [],
   "source": [
    "my_variable = \"Welcome to Medium! Medium is a publishing platform where people can read important, insightful stories on the topics that matter most to them and share ideas with the world.\""
   ]
  },
  {
   "cell_type": "code",
   "execution_count": 2,
   "id": "95b54ae9-8f30-40eb-b8f2-3c77be01fc08",
   "metadata": {},
   "outputs": [],
   "source": [
    "nlp = spacy.load(\"en_core_web_md\")"
   ]
  },
  {
   "cell_type": "code",
   "execution_count": 3,
   "id": "121d47bd-04fd-49c9-83bb-905d9b4ecea9",
   "metadata": {},
   "outputs": [],
   "source": [
    "def get_hotwords(text):\n",
    "    result = []\n",
    "    pos_tag = ['PROPN', 'ADJ', 'NOUN'] # 1\n",
    "    doc = nlp(text.lower()) # 2\n",
    "    for token in doc:\n",
    "        # 3\n",
    "        if(token.text in nlp.Defaults.stop_words or token.text in punctuation):\n",
    "            continue\n",
    "        # 4\n",
    "        if(token.pos_ in pos_tag):\n",
    "            result.append(token.text)\n",
    "                \n",
    "    return result # 5"
   ]
  },
  {
   "cell_type": "code",
   "execution_count": 11,
   "id": "1e7ad431-6c5c-47eb-8587-57f2770a6b5d",
   "metadata": {},
   "outputs": [],
   "source": [
    "output = set(get_hotwords(my_variable))"
   ]
  },
  {
   "cell_type": "markdown",
   "id": "444cc0ae-f76f-4026-bc58-b249975ef663",
   "metadata": {},
   "source": [
    "## Extracted Keywords from text input"
   ]
  },
  {
   "cell_type": "code",
   "execution_count": 22,
   "id": "0a33058e-f615-4c4b-8ece-739a14b31914",
   "metadata": {},
   "outputs": [],
   "source": [
    "sortKey = [x[0] for x in Counter(output).most_common(20)]"
   ]
  },
  {
   "cell_type": "code",
   "execution_count": 21,
   "id": "c047c75d-89de-4113-a81f-eb7fc0b9d112",
   "metadata": {},
   "outputs": [
    {
     "name": "stdout",
     "output_type": "stream",
     "text": [
      "people\n",
      "stories\n",
      "insightful\n",
      "publishing\n",
      "important\n"
     ]
    }
   ],
   "source": [
    "print(*list(sortKey), sep = \"\\n\")"
   ]
  }
 ],
 "metadata": {
  "kernelspec": {
   "display_name": "Python 3 (ipykernel)",
   "language": "python",
   "name": "python3"
  },
  "language_info": {
   "codemirror_mode": {
    "name": "ipython",
    "version": 3
   },
   "file_extension": ".py",
   "mimetype": "text/x-python",
   "name": "python",
   "nbconvert_exporter": "python",
   "pygments_lexer": "ipython3",
   "version": "3.10.2"
  }
 },
 "nbformat": 4,
 "nbformat_minor": 5
}
